{
 "cells": [
  {
   "cell_type": "markdown",
   "metadata": {},
   "source": [
    "# Procesamiento de Datos"
   ]
  },
  {
   "cell_type": "markdown",
   "metadata": {},
   "source": [
    "##### Importación de Librerías y Carga del Dataset"
   ]
  },
  {
   "cell_type": "code",
   "execution_count": null,
   "metadata": {},
   "outputs": [],
   "source": [
    "import pandas as pd\n",
    "import numpy as np\n",
    "import matplotlib.pyplot as plt\n",
    "import seaborn as sns\n",
    "import scipy.stats as stats\n",
    "\n",
    "# Ruta del archivo\n",
    "data_path = \"../../data/movies.csv\"\n",
    "clean_data_path = \"../../data/movies_clean.csv\"\n",
    "\n",
    "# Cargar dataset\n",
    "df = pd.read_csv(data_path, encoding=\"ISO-8859-1\")\n",
    "\n",
    "# Convertir 'releaseDate' a formato de fecha\n",
    "df[\"releaseDate\"] = pd.to_datetime(df[\"releaseDate\"], errors=\"coerce\")\n",
    "\n",
    "# Mostrar las primeras filas\n",
    "df.head()"
   ]
  },
  {
   "cell_type": "markdown",
   "metadata": {},
   "source": [
    "##### Revisión General del Dataset"
   ]
  },
  {
   "cell_type": "code",
   "execution_count": null,
   "metadata": {},
   "outputs": [],
   "source": [
    "# Información general del dataset\n",
    "df.info()\n",
    "\n",
    "# Revisar valores nulos\n",
    "df.isnull().sum()"
   ]
  },
  {
   "cell_type": "markdown",
   "metadata": {},
   "source": [
    "##### Clasificación Automática de Variables"
   ]
  },
  {
   "cell_type": "code",
   "execution_count": null,
   "metadata": {},
   "outputs": [],
   "source": [
    "classification = {}\n",
    "\n",
    "for column in df.columns:\n",
    "    dtype = df[column].dtype  \n",
    "    if dtype == \"object\":\n",
    "        classification[column] = \"Cualitativa Nominal\"\n",
    "    elif dtype == \"int64\":\n",
    "        classification[column] = \"Cuantitativa Discreta\"\n",
    "    elif dtype == \"float64\":\n",
    "        classification[column] = \"Cuantitativa Continua\"\n",
    "    elif \"datetime\" in str(dtype):\n",
    "        classification[column] = \"Cualitativa Nominal\"\n",
    "\n",
    "# Correcciones manuales\n",
    "continuous_vars = [\"budget\", \"revenue\", \"runtime\", \"popularity\", \"voteAvg\", \"actorsPopularity\"]\n",
    "discrete_vars = [\"castWomenAmount\", \"castMenAmount\"]\n",
    "\n",
    "for var in continuous_vars:\n",
    "    classification[var] = \"Cuantitativa Continua\"\n",
    "\n",
    "for var in discrete_vars:\n",
    "    classification[var] = \"Cuantitativa Discreta\"\n",
    "\n",
    "# Mostrar clasificación\n",
    "pd.DataFrame(list(classification.items()), columns=[\"Variable\", \"Tipo\"])"
   ]
  },
  {
   "cell_type": "markdown",
   "metadata": {},
   "source": [
    "##### Conversión de Variables Numéricas y Categóricas"
   ]
  },
  {
   "cell_type": "code",
   "execution_count": null,
   "metadata": {},
   "outputs": [],
   "source": [
    "for var in continuous_vars:\n",
    "    df[var] = pd.to_numeric(df[var], errors='coerce')\n",
    "\n",
    "# Convertir variables categóricas en minúsculas para evitar inconsistencias\n",
    "df[\"genres\"] = df[\"genres\"].str.lower()\n",
    "df[\"productionCompany\"] = df[\"productionCompany\"].str.lower()\n",
    "df[\"productionCountry\"] = df[\"productionCountry\"].str.lower()\n",
    "df[\"originalLanguage\"] = df[\"originalLanguage\"].str.lower()"
   ]
  },
  {
   "cell_type": "markdown",
   "metadata": {},
   "source": [
    "##### Visualización de Distribución de Variables Numéricas"
   ]
  },
  {
   "cell_type": "code",
   "execution_count": null,
   "metadata": {},
   "outputs": [],
   "source": [
    "plt.figure(figsize=(10, 5))\n",
    "\n",
    "for var in continuous_vars:\n",
    "    sns.histplot(df[var].dropna(), kde=True, bins=30)\n",
    "    plt.title(f\"Distribución de {var}\")\n",
    "    plt.xlabel(var)\n",
    "    plt.ylabel(\"Frecuencia\")\n",
    "    plt.show()"
   ]
  },
  {
   "cell_type": "markdown",
   "metadata": {},
   "source": [
    "##### Pruebas de Normalidad (Shapiro-Wilk y Kolmogorov-Smirnov)"
   ]
  },
  {
   "cell_type": "code",
   "execution_count": null,
   "metadata": {},
   "outputs": [],
   "source": [
    "normality_results = []\n",
    "\n",
    "for var in continuous_vars:\n",
    "    data = df[var].dropna()\n",
    "    shapiro_test = stats.shapiro(data) if len(data) < 5000 else (None, None)\n",
    "    ks_test = stats.kstest(data, 'norm')\n",
    "\n",
    "    normality_results.append({\n",
    "        \"Variable\": var,\n",
    "        \"Shapiro-Wilk p-valor\": f\"{shapiro_test[1]:.6f}\" if shapiro_test[1] is not None else \"N/A\",\n",
    "        \"Kolmogorov-Smirnov p-valor\": ks_test.pvalue\n",
    "    })\n",
    "\n",
    "pd.DataFrame(normality_results)"
   ]
  },
  {
   "cell_type": "markdown",
   "metadata": {},
   "source": [
    "##### Tablas de Frecuencias de Variables Cualitativas"
   ]
  },
  {
   "cell_type": "code",
   "execution_count": null,
   "metadata": {},
   "outputs": [],
   "source": [
    "qualitative_vars = [\"genres\", \"productionCompany\", \"productionCountry\", \"originalLanguage\"]\n",
    "\n",
    "for var in qualitative_vars:\n",
    "    print(f\"\\n🔹 {var}:\")\n",
    "    print(df[var].value_counts().head(10))"
   ]
  }
 ],
 "metadata": {
  "language_info": {
   "name": "python"
  }
 },
 "nbformat": 4,
 "nbformat_minor": 2
}
